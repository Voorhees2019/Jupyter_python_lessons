{
 "cells": [
  {
   "cell_type": "code",
   "execution_count": 1,
   "metadata": {},
   "outputs": [
    {
     "data": {
      "text/plain": [
       "'utf-8'"
      ]
     },
     "execution_count": 1,
     "metadata": {},
     "output_type": "execute_result"
    }
   ],
   "source": [
    "import sys\n",
    "sys.getdefaultencoding()"
   ]
  },
  {
   "cell_type": "code",
   "execution_count": 2,
   "metadata": {},
   "outputs": [
    {
     "data": {
      "text/plain": [
       "102"
      ]
     },
     "execution_count": 2,
     "metadata": {},
     "output_type": "execute_result"
    }
   ],
   "source": [
    "ord('f')"
   ]
  },
  {
   "cell_type": "code",
   "execution_count": 3,
   "metadata": {},
   "outputs": [
    {
     "data": {
      "text/plain": [
       "'a'"
      ]
     },
     "execution_count": 3,
     "metadata": {},
     "output_type": "execute_result"
    }
   ],
   "source": [
    "chr(97)"
   ]
  },
  {
   "cell_type": "code",
   "execution_count": 4,
   "metadata": {},
   "outputs": [
    {
     "data": {
      "text/plain": [
       "'Ķ'"
      ]
     },
     "execution_count": 4,
     "metadata": {},
     "output_type": "execute_result"
    }
   ],
   "source": [
    "chr(310)"
   ]
  },
  {
   "cell_type": "code",
   "execution_count": 5,
   "metadata": {},
   "outputs": [
    {
     "name": "stdout",
     "output_type": "stream",
     "text": [
      "<class 'bytes'>\n",
      "b'string1'\n",
      "b'string1'\n",
      "b'\\xff\\xfes\\x00t\\x00r\\x00i\\x00n\\x00g\\x001\\x00'\n"
     ]
    }
   ],
   "source": [
    "s = 'string1'\n",
    "enc_ascii = s.encode('ascii')\n",
    "enc_utf8 = s.encode('utf8')\n",
    "enc_utf16 = s.encode('utf16')\n",
    "print(type(enc_ascii))\n",
    "print(enc_ascii)\n",
    "print(enc_utf8)\n",
    "print(enc_utf16)"
   ]
  },
  {
   "cell_type": "code",
   "execution_count": 6,
   "metadata": {},
   "outputs": [
    {
     "name": "stdout",
     "output_type": "stream",
     "text": [
      "7\n",
      "7\n",
      "16\n"
     ]
    }
   ],
   "source": [
    "print(len(enc_ascii))\n",
    "print(len(enc_utf8))\n",
    "print(len(enc_utf16))"
   ]
  },
  {
   "cell_type": "code",
   "execution_count": 7,
   "metadata": {},
   "outputs": [
    {
     "name": "stdout",
     "output_type": "stream",
     "text": [
      "<class 'bytes'>\n",
      "<class 'str'>\n"
     ]
    }
   ],
   "source": [
    "str_in_bytes = b'hello'\n",
    "str_in_bytes = s.encode('utf8')\n",
    "\n",
    "str_in_text = 'hello'\n",
    "print(type(str_in_bytes))\n",
    "print(type(str_in_text))\n"
   ]
  },
  {
   "cell_type": "code",
   "execution_count": 8,
   "metadata": {},
   "outputs": [
    {
     "name": "stdout",
     "output_type": "stream",
     "text": [
      "115\n",
      "h\n"
     ]
    }
   ],
   "source": [
    "print(str_in_bytes[0])\n",
    "print(str_in_text[0])"
   ]
  },
  {
   "cell_type": "code",
   "execution_count": 9,
   "metadata": {},
   "outputs": [
    {
     "name": "stdout",
     "output_type": "stream",
     "text": [
      "bytearray(b'Wello')\n"
     ]
    }
   ],
   "source": [
    "ba = bytearray(b'hello')\n",
    "ba[0] = 87\n",
    "print(ba)"
   ]
  },
  {
   "cell_type": "code",
   "execution_count": 12,
   "metadata": {},
   "outputs": [
    {
     "name": "stdout",
     "output_type": "stream",
     "text": [
      "string1\n",
      "7\n"
     ]
    }
   ],
   "source": [
    "result = str(str_in_bytes, 'utf8')\n",
    "print(result)\n",
    "print(len(result))"
   ]
  },
  {
   "cell_type": "code",
   "execution_count": 13,
   "metadata": {},
   "outputs": [
    {
     "name": "stdout",
     "output_type": "stream",
     "text": [
      "string1\n"
     ]
    }
   ],
   "source": [
    "result = str_in_bytes.decode('utf8')\n",
    "print(result)"
   ]
  },
  {
   "cell_type": "code",
   "execution_count": 15,
   "metadata": {},
   "outputs": [],
   "source": [
    "jpeg = [120, 60, 20, 110, 255]\n",
    "with open('template.bin', 'w+b') as file_name:\n",
    "    file_name.write(bytes(jpeg))"
   ]
  },
  {
   "cell_type": "code",
   "execution_count": 18,
   "metadata": {},
   "outputs": [
    {
     "name": "stdout",
     "output_type": "stream",
     "text": [
      "b'x<\\x14n\\xff'\n",
      "120\n",
      "60\n",
      "20\n",
      "110\n",
      "255\n"
     ]
    }
   ],
   "source": [
    "with open('template.bin', 'rb') as file_name:\n",
    "    data = file_name.read()\n",
    "    print(data)\n",
    "    for i in data:\n",
    "        print(int(i))\n"
   ]
  },
  {
   "cell_type": "code",
   "execution_count": null,
   "metadata": {},
   "outputs": [],
   "source": []
  }
 ],
 "metadata": {
  "kernelspec": {
   "display_name": "Python 3",
   "language": "python",
   "name": "python3"
  },
  "language_info": {
   "codemirror_mode": {
    "name": "ipython",
    "version": 3
   },
   "file_extension": ".py",
   "mimetype": "text/x-python",
   "name": "python",
   "nbconvert_exporter": "python",
   "pygments_lexer": "ipython3",
   "version": "3.7.3"
  }
 },
 "nbformat": 4,
 "nbformat_minor": 2
}
