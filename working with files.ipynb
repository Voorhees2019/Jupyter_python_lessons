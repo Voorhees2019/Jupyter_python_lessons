{
 "cells": [
  {
   "cell_type": "code",
   "execution_count": 1,
   "metadata": {},
   "outputs": [],
   "source": [
    "with open('sample.txt', 'w') as sample_file:\n",
    "    sample_file.write(\"John. 324213900.\")"
   ]
  },
  {
   "cell_type": "code",
   "execution_count": 2,
   "metadata": {},
   "outputs": [
    {
     "name": "stdout",
     "output_type": "stream",
     "text": [
      "John. 324213900.\n",
      "hello, John.\n"
     ]
    }
   ],
   "source": [
    "with open('sample.txt', 'r+') as sample_file:\n",
    "    sample_file.seek(0, 2)  # shift cursor at the end of file\n",
    "    sample_file.write('\\nhello, John.')\n",
    "    sample_file.seek(0) # shift cursor at the beginning of file\n",
    "    print(sample_file.read())"
   ]
  },
  {
   "cell_type": "code",
   "execution_count": null,
   "metadata": {},
   "outputs": [],
   "source": []
  }
 ],
 "metadata": {
  "kernelspec": {
   "display_name": "Python 3",
   "language": "python",
   "name": "python3"
  },
  "language_info": {
   "codemirror_mode": {
    "name": "ipython",
    "version": 3
   },
   "file_extension": ".py",
   "mimetype": "text/x-python",
   "name": "python",
   "nbconvert_exporter": "python",
   "pygments_lexer": "ipython3",
   "version": "3.7.3"
  }
 },
 "nbformat": 4,
 "nbformat_minor": 2
}
