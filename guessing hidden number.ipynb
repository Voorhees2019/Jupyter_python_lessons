{
 "cells": [
  {
   "cell_type": "code",
   "execution_count": 3,
   "metadata": {},
   "outputs": [
    {
     "name": "stdout",
     "output_type": "stream",
     "text": [
      "Guess the number from 1 to 50:\n",
      "25\n",
      "Hidden number is greater than 25\n",
      "Guess the number from 1 to 50:\n",
      "37\n",
      "Hidden number is greater than 37\n",
      "Guess the number from 1 to 50:\n",
      "43\n",
      "Hidden number is greater than 43\n",
      "Guess the number from 1 to 50:\n",
      "47\n",
      "Hidden number is less than 47\n",
      "Guess the number from 1 to 50:\n",
      "45\n",
      "Hidden number is greater than 45\n",
      "Guess the number from 1 to 50:\n",
      "46\n",
      "YEAH! Right answer! Hidden number is 46\n"
     ]
    }
   ],
   "source": [
    "import random\n",
    "attempt = 0\n",
    "hidden_number = random.randint(1, 50)\n",
    "right_answer = False\n",
    "print('Guess the number from 1 to 50:')\n",
    "while attempt < 6:\n",
    "    user_input = int(input('Take a guess'))\n",
    "    if user_input < hidden_number:\n",
    "        print('Hidden number is greater than ' + str(user_input))\n",
    "    elif user_input > hidden_number:\n",
    "        print('Hidden number is less than ' + str(user_input))\n",
    "    else:\n",
    "        print(f'YEAH! Right answer! Hidden number is {hidden_number}')\n",
    "        right_answer = True\n",
    "        break\n",
    "    attempt += 1\n",
    "\n",
    "if not right_answer:\n",
    "    print(f'Hidden number was {hidden_number}.')\n",
    "\n"
   ]
  },
  {
   "cell_type": "code",
   "execution_count": null,
   "metadata": {},
   "outputs": [],
   "source": []
  }
 ],
 "metadata": {
  "kernelspec": {
   "display_name": "Python 3",
   "language": "python",
   "name": "python3"
  },
  "language_info": {
   "codemirror_mode": {
    "name": "ipython",
    "version": 3
   },
   "file_extension": ".py",
   "mimetype": "text/x-python",
   "name": "python",
   "nbconvert_exporter": "python",
   "pygments_lexer": "ipython3",
   "version": "3.7.3"
  }
 },
 "nbformat": 4,
 "nbformat_minor": 2
}
