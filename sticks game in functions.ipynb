{
 "cells": [
  {
   "cell_type": "code",
   "execution_count": 4,
   "metadata": {},
   "outputs": [
    {
     "name": "stdout",
     "output_type": "stream",
     "text": [
      "Input the number of sticks you want to play with: 5\n",
      "How many sticks do you want to take: 2\n",
      "3 sticks left.\n",
      "How many sticks do you want to take: 3\n",
      "0 sticks left.\n",
      "Player1 has won.\n"
     ]
    }
   ],
   "source": [
    "sticks_number = int(input('Input the number of sticks you want to play with: '))\n",
    "player_turn = 1\n",
    "\n",
    "def can_take(taken):\n",
    "    return taken >= 1 and taken <= 3\n",
    "\n",
    "def switch_player():\n",
    "    global player_turn\n",
    "    player_turn = 1 if player_turn == 2 else 2\n",
    "\n",
    "def end_of_game(sticks_number):\n",
    "    return sticks_number <= 1\n",
    "\n",
    "while not end_of_game(sticks_number):\n",
    "    taken = int(input(\"How many sticks do you want to take: \"))\n",
    "    if can_take(taken):\n",
    "        sticks_number -= taken\n",
    "    elif not can_take(taken):\n",
    "        print('You may take only 1, 2 or 3 sticks. Try again.')\n",
    "        continue\n",
    "    print(f'{sticks_number} sticks left.')\n",
    "    switch_player()\n",
    "    if sticks_number <= 1:\n",
    "        print(f'Player{player_turn} has won.')\n",
    "        break"
   ]
  },
  {
   "cell_type": "code",
   "execution_count": null,
   "metadata": {},
   "outputs": [],
   "source": []
  }
 ],
 "metadata": {
  "kernelspec": {
   "display_name": "Python 3",
   "language": "python",
   "name": "python3"
  },
  "language_info": {
   "codemirror_mode": {
    "name": "ipython",
    "version": 3
   },
   "file_extension": ".py",
   "mimetype": "text/x-python",
   "name": "python",
   "nbconvert_exporter": "python",
   "pygments_lexer": "ipython3",
   "version": "3.7.3"
  }
 },
 "nbformat": 4,
 "nbformat_minor": 2
}
