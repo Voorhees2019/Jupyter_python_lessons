{
 "cells": [
  {
   "cell_type": "code",
   "execution_count": 5,
   "metadata": {},
   "outputs": [
    {
     "name": "stderr",
     "output_type": "stream",
     "text": [
      "100% (10 of 10) |########################| Elapsed Time: 0:00:10 Time:  0:00:10\n"
     ]
    }
   ],
   "source": [
    "import progressbar\n",
    "import time\n",
    "\n",
    "bar = progressbar.ProgressBar(maxval=10)\n",
    "bar.start()\n",
    "\n",
    "for i in range(1, 11):\n",
    "    bar.update(i)\n",
    "    time.sleep(1)\n",
    "\n",
    "bar.finish()\n"
   ]
  },
  {
   "cell_type": "code",
   "execution_count": null,
   "metadata": {},
   "outputs": [],
   "source": []
  }
 ],
 "metadata": {
  "kernelspec": {
   "display_name": "Python 3",
   "language": "python",
   "name": "python3"
  },
  "language_info": {
   "codemirror_mode": {
    "name": "ipython",
    "version": 3
   },
   "file_extension": ".py",
   "mimetype": "text/x-python",
   "name": "python",
   "nbconvert_exporter": "python",
   "pygments_lexer": "ipython3",
   "version": "3.7.3"
  }
 },
 "nbformat": 4,
 "nbformat_minor": 2
}
