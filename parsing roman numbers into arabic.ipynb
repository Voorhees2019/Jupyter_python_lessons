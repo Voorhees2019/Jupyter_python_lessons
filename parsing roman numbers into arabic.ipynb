{
 "cells": [
  {
   "cell_type": "code",
   "execution_count": 121,
   "metadata": {},
   "outputs": [
    {
     "name": "stdout",
     "output_type": "stream",
     "text": [
      "{'I': 1, 'V': 5, 'X': 10, 'L': 50, 'C': 100, 'D': 500, 'M': 1000}\n"
     ]
    },
    {
     "data": {
      "text/plain": [
       "14"
      ]
     },
     "execution_count": 121,
     "metadata": {},
     "output_type": "execute_result"
    }
   ],
   "source": [
    "roman_numbers = ['I', 'V', 'X', 'L', 'C', 'D', 'M']\n",
    "arabic_numbers = [1, 5, 10, 50, 100, 500, 1000]\n",
    "matching_dict = dict(zip(roman_numbers, arabic_numbers))\n",
    "print(matching_dict)\n",
    "def roman_into_arabic(roman_str):\n",
    "    ''' I - 1\n",
    "        V - 5\n",
    "        X - 10\n",
    "        L - 50\n",
    "        C - 100\n",
    "        D - 500\n",
    "        M - 1000'''\n",
    "    result = 0\n",
    "    result += matching_dict[roman_str[0]]\n",
    "    for i in range(1, len(roman_str)):\n",
    "        result += matching_dict[roman_str[i]]\n",
    "        if matching_dict[roman_str[i-1]] < matching_dict[roman_str[i]]:\n",
    "            result -= 2*matching_dict[roman_str[i-1]]\n",
    "    return result\n",
    "roman_into_arabic('XIV')"
   ]
  },
  {
   "cell_type": "code",
   "execution_count": 137,
   "metadata": {},
   "outputs": [
    {
     "data": {
      "text/plain": [
       "18"
      ]
     },
     "execution_count": 137,
     "metadata": {},
     "output_type": "execute_result"
    }
   ],
   "source": [
    "def roman_into_arabic2(roman_str):\n",
    "    result2 = 0\n",
    "    for i, v in enumerate(roman_str):\n",
    "        if i+1 < len(roman_str) and matching_dict[roman_str[i]] < matching_dict[roman_str[i+1]]:\n",
    "            result2 -= matching_dict[roman_str[i]]\n",
    "        else:\n",
    "            result2 += matching_dict[roman_str[i]]\n",
    "    return result2\n",
    "\n",
    "roman_into_arabic2('XVIII')"
   ]
  },
  {
   "cell_type": "code",
   "execution_count": null,
   "metadata": {},
   "outputs": [],
   "source": []
  }
 ],
 "metadata": {
  "kernelspec": {
   "display_name": "Python 3",
   "language": "python",
   "name": "python3"
  },
  "language_info": {
   "codemirror_mode": {
    "name": "ipython",
    "version": 3
   },
   "file_extension": ".py",
   "mimetype": "text/x-python",
   "name": "python",
   "nbconvert_exporter": "python",
   "pygments_lexer": "ipython3",
   "version": "3.7.3"
  }
 },
 "nbformat": 4,
 "nbformat_minor": 2
}
