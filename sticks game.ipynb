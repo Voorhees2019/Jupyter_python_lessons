{
 "cells": [
  {
   "cell_type": "code",
   "execution_count": 1,
   "metadata": {},
   "outputs": [
    {
     "name": "stdout",
     "output_type": "stream",
     "text": [
      "Input the beginning number of sticks: 20\n",
      "First player's turn. What number from 1 to 3 sticks do you want do take?: 3\n",
      "17 sticks left.\n",
      "Second player's turn. What number from 1 to 3 sticks do you want do take?: 3\n",
      "14 sticks left.\n",
      "First player's turn. What number from 1 to 3 sticks do you want do take?: 3\n",
      "11 sticks left.\n",
      "Second player's turn. What number from 1 to 3 sticks do you want do take?: 1\n",
      "10 sticks left.\n",
      "First player's turn. What number from 1 to 3 sticks do you want do take?: 2\n",
      "8 sticks left.\n",
      "Second player's turn. What number from 1 to 3 sticks do you want do take?: 3\n",
      "5 sticks left.\n",
      "First player's turn. What number from 1 to 3 sticks do you want do take?: 1\n",
      "4 sticks left.\n",
      "Second player's turn. What number from 1 to 3 sticks do you want do take?: 1\n",
      "3 sticks left.\n",
      "First player's turn. What number from 1 to 3 sticks do you want do take?: 2\n",
      "1 sticks left.\n",
      "First player won!\n"
     ]
    }
   ],
   "source": [
    "amount_of_sticks = int(input('Input the beginning number of sticks: '))\n",
    "\n",
    "while 1:\n",
    "    turn1 = int(input(\"First player's turn. What number from 1 to 3 sticks do you want do take?: \"))\n",
    "    if 1 <= turn1 <= 3:\n",
    "        amount_of_sticks -= turn1\n",
    "        print(f'{amount_of_sticks} sticks left.')\n",
    "    else:\n",
    "        while turn1 < 1 or turn1 > 3:\n",
    "            print('ERROR. You may take 1, 2 or 3 sticks. Try again.')\n",
    "            print(f'{amount_of_sticks} sticks left.')\n",
    "            turn1 = int(input(\"First player's turn. What number from 1 to 3 sticks do you want do take?: \"))\n",
    "        amount_of_sticks -= turn1\n",
    "        print(f'{amount_of_sticks} sticks left.')\n",
    "    \n",
    "    if amount_of_sticks <= 1:\n",
    "        print('First player won!')\n",
    "        break\n",
    "    \n",
    "    turn2 = int(input(\"Second player's turn. What number from 1 to 3 sticks do you want do take?: \"))\n",
    "    if 1 <= turn2 <= 3:\n",
    "        amount_of_sticks -= turn2\n",
    "        print(f'{amount_of_sticks} sticks left.')\n",
    "    else:\n",
    "        while turn2 < 1 or turn2 > 3:\n",
    "            print('ERROR. You may take 1, 2 or 3 sticks. Try again.')\n",
    "            print(f'{amount_of_sticks} sticks left.')\n",
    "            turn2 = int(input(\"Second player's turn. What number from 1 to 3 sticks do you want do take?: \"))\n",
    "        amount_of_sticks -= turn2\n",
    "        print(f'{amount_of_sticks} sticks left.')\n",
    "    if amount_of_sticks <= 1:\n",
    "        print('Second player won!')\n",
    "        break\n"
   ]
  }
 ],
 "metadata": {
  "kernelspec": {
   "display_name": "Python 3",
   "language": "python",
   "name": "python3"
  },
  "language_info": {
   "codemirror_mode": {
    "name": "ipython",
    "version": 3
   },
   "file_extension": ".py",
   "mimetype": "text/x-python",
   "name": "python",
   "nbconvert_exporter": "python",
   "pygments_lexer": "ipython3",
   "version": "3.7.3"
  }
 },
 "nbformat": 4,
 "nbformat_minor": 2
}
